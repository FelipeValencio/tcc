{
 "cells": [
  {
   "cell_type": "code",
   "id": "initial_id",
   "metadata": {
    "collapsed": true
   },
   "source": [
    "from sklearn.model_selection import train_test_split\n",
    "from sklearn.multioutput import MultiOutputClassifier\n",
    "from sklearn.tree import DecisionTreeClassifier\n",
    "\n",
    "import pandas as pd"
   ],
   "outputs": [],
   "execution_count": null
  },
  {
   "metadata": {},
   "cell_type": "code",
   "source": [
    "df = pd.read_csv('dataset_semNull.csv')\n",
    "\n",
    "df"
   ],
   "id": "fa0b8f40d2f14a6d",
   "outputs": [],
   "execution_count": null
  },
  {
   "metadata": {},
   "cell_type": "code",
   "source": [
    "X = df[\n",
    "    ['dev-01', 'dev-02', 'dev-03', 'dev-04', 'dev-05', 'dev-06', 'dev-07', 'dev-08', 'dev-09', 'dev-10',\n",
    "                'dev-11',]]\n",
    "\n",
    "y = df[['SEC01-BP01', 'SEC01-BP06', 'SEC02-BP02', 'SEC02-BP03', 'SEC02-BP05', 'SEC03-BP07',\n",
    "                    'SEC03-BP08', 'SEC04-BP02', 'SEC04-BP03', 'SEC11-BP01', 'SEC11-BP02', 'SEC11-BP03', 'SEC11-BP04',\n",
    "                    'SEC11-BP05', 'SEC11-BP06', 'SEC11-BP07', 'SEC11-BP08']]\n"
   ],
   "id": "77804f7d4b8cf385",
   "outputs": [],
   "execution_count": null
  },
  {
   "metadata": {},
   "cell_type": "code",
   "source": [
    "X_train, X_test, y_train, y_test = train_test_split(X, y, test_size=0.2, random_state=42)\n",
    "\n",
    "print(\"Shapes of training and testing sets:\")\n",
    "print(\"X_train shape:\", X_train.shape)\n",
    "print(\"X_test shape:\", X_test.shape)\n",
    "print(\"y_train shape:\", y_train.shape)\n",
    "print(\"y_test shape:\", y_test.shape)"
   ],
   "id": "82aab0bef02e5209",
   "outputs": [],
   "execution_count": null
  },
  {
   "metadata": {},
   "cell_type": "code",
   "source": [
    "# Initialize base classifier\n",
    "base_classifier = DecisionTreeClassifier()\n",
    "\n",
    "# Wrap base classifier in MultiOutputClassifier to handle multilabel classification\n",
    "multi_label_classifier = MultiOutputClassifier(base_classifier)"
   ],
   "id": "4b635386dcd21cc9",
   "outputs": [],
   "execution_count": null
  },
  {
   "metadata": {},
   "cell_type": "code",
   "source": [
    "multi_label_classifier.fit(X_train, y_train)\n",
    "y_pred = multi_label_classifier.predict(X_test)"
   ],
   "id": "5f32664c1ed2527f",
   "outputs": [],
   "execution_count": null
  },
  {
   "metadata": {},
   "cell_type": "code",
   "source": [
    "from sklearn.metrics import accuracy_score, classification_report\n",
    "\n",
    "accuracy = accuracy_score(y_test, y_pred)\n",
    "print(f\"Accuracy: {accuracy:.2f}\")\n",
    "\n",
    "print(\"Classification Report:\")\n",
    "print(classification_report(y_test, y_pred))"
   ],
   "id": "4f2c08fa84f325e2",
   "outputs": [],
   "execution_count": null
  },
  {
   "metadata": {},
   "cell_type": "code",
   "source": [
    "import os\n",
    "from sklearn.tree import plot_tree\n",
    "from matplotlib import pyplot as plt\n",
    "\n",
    "featureNames = ['dev-01', 'dev-02', 'dev-03', 'dev-04', 'dev-05', 'dev-06', 'dev-07', 'dev-08', 'dev-09', 'dev-10',\n",
    "                'dev-11',]\n",
    "\n",
    "targetNames = ['SEC01-BP01', 'SEC01-BP06', 'SEC02-BP02', 'SEC02-BP03', 'SEC02-BP05', 'SEC03-BP07',\n",
    "                    'SEC03-BP08', 'SEC04-BP02', 'SEC04-BP03', 'SEC11-BP01', 'SEC11-BP02', 'SEC11-BP03', 'SEC11-BP04',\n",
    "                    'SEC11-BP05', 'SEC11-BP06', 'SEC11-BP07', 'SEC11-BP08']\n",
    "\n",
    "# Create a directory to save decision tree images\n",
    "output_dir = 'decision_trees'\n",
    "os.makedirs(output_dir, exist_ok=True)\n",
    "\n",
    "# Visualize and save each decision tree in the MultiOutputClassifier\n",
    "for i, estimator in enumerate(multi_label_classifier.estimators_):\n",
    "    # Plot decision tree\n",
    "    plt.figure(figsize=(12, 8))\n",
    "    plot_tree(estimator, feature_names=featureNames, class_names=targetNames, filled=True)\n",
    "    plt.title(f\"Decision Tree - Estimator {i+1}\")\n",
    "    \n",
    "    # Save the plot as an image\n",
    "    image_path = os.path.join(output_dir, f\"decision_tree_{i+1}.png\")\n",
    "    plt.savefig(image_path)\n",
    "    \n",
    "    # Display the plot (optional)\n",
    "    plt.show()\n",
    "\n",
    "    # Close the plot to release memory\n",
    "    plt.close()\n",
    "\n",
    "print(\"Decision tree images saved successfully.\")"
   ],
   "id": "a3a1558d9003204d",
   "outputs": [],
   "execution_count": null
  },
  {
   "metadata": {},
   "cell_type": "code",
   "source": "",
   "id": "7fb9edf4569456ac",
   "outputs": [],
   "execution_count": null
  }
 ],
 "metadata": {
  "kernelspec": {
   "display_name": "Python 3",
   "language": "python",
   "name": "python3"
  },
  "language_info": {
   "codemirror_mode": {
    "name": "ipython",
    "version": 2
   },
   "file_extension": ".py",
   "mimetype": "text/x-python",
   "name": "python",
   "nbconvert_exporter": "python",
   "pygments_lexer": "ipython2",
   "version": "2.7.6"
  }
 },
 "nbformat": 4,
 "nbformat_minor": 5
}
